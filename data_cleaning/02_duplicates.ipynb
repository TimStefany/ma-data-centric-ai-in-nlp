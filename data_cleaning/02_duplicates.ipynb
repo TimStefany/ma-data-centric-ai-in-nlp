{
 "cells": [
  {
   "cell_type": "code",
   "execution_count": 1,
   "metadata": {},
   "outputs": [],
   "source": [
    "import pandas as pd"
   ]
  },
  {
   "attachments": {},
   "cell_type": "markdown",
   "metadata": {},
   "source": [
    "# Remove duplicate descriptions\n",
    "in this script we will remove duplicate descriptions from the basis dataset by keeping only the first occurance of a duplicate."
   ]
  },
  {
   "cell_type": "code",
   "execution_count": 2,
   "metadata": {},
   "outputs": [
    {
     "name": "stdout",
     "output_type": "stream",
     "text": [
      "<class 'pandas.core.frame.DataFrame'>\n",
      "RangeIndex: 4246 entries, 0 to 4245\n",
      "Data columns (total 4 columns):\n",
      " #   Column                       Non-Null Count  Dtype \n",
      "---  ------                       --------------  ----- \n",
      " 0   startup_ID                   4246 non-null   int64 \n",
      " 1   description_startupdetector  592 non-null    object\n",
      " 2   startup_description          4112 non-null   object\n",
      " 3   industry                     4246 non-null   object\n",
      "dtypes: int64(1), object(3)\n",
      "memory usage: 132.8+ KB\n"
     ]
    }
   ],
   "source": [
    "df = pd.read_csv('../data/00_baseline/raw_data.csv')\n",
    "df.info()"
   ]
  },
  {
   "cell_type": "code",
   "execution_count": 3,
   "metadata": {},
   "outputs": [
    {
     "name": "stdout",
     "output_type": "stream",
     "text": [
      "<class 'pandas.core.frame.DataFrame'>\n",
      "RangeIndex: 4246 entries, 0 to 4245\n",
      "Data columns (total 5 columns):\n",
      " #   Column                       Non-Null Count  Dtype \n",
      "---  ------                       --------------  ----- \n",
      " 0   startup_ID                   4246 non-null   int64 \n",
      " 1   description_startupdetector  592 non-null    object\n",
      " 2   startup_description          4112 non-null   object\n",
      " 3   industry                     4246 non-null   object\n",
      " 4   description                  4246 non-null   object\n",
      "dtypes: int64(1), object(4)\n",
      "memory usage: 166.0+ KB\n"
     ]
    }
   ],
   "source": [
    "# build one description column as in prepare_dataset_csv.py\n",
    "df['description'] = df['description_startupdetector'].fillna(df['startup_description'])\n",
    "df.info()"
   ]
  },
  {
   "cell_type": "code",
   "execution_count": 4,
   "metadata": {},
   "outputs": [
    {
     "name": "stdout",
     "output_type": "stream",
     "text": [
      "<class 'pandas.core.frame.DataFrame'>\n",
      "Index: 370 entries, 1174 to 2319\n",
      "Data columns (total 5 columns):\n",
      " #   Column                       Non-Null Count  Dtype \n",
      "---  ------                       --------------  ----- \n",
      " 0   startup_ID                   370 non-null    int64 \n",
      " 1   description_startupdetector  23 non-null     object\n",
      " 2   startup_description          362 non-null    object\n",
      " 3   industry                     370 non-null    object\n",
      " 4   description                  370 non-null    object\n",
      "dtypes: int64(1), object(4)\n",
      "memory usage: 17.3+ KB\n"
     ]
    },
    {
     "name": "stderr",
     "output_type": "stream",
     "text": [
      "/tmp/ipykernel_1287992/1565361636.py:3: SettingWithCopyWarning: \n",
      "A value is trying to be set on a copy of a slice from a DataFrame\n",
      "\n",
      "See the caveats in the documentation: https://pandas.pydata.org/pandas-docs/stable/user_guide/indexing.html#returning-a-view-versus-a-copy\n",
      "  duplicate_descriptions.sort_values('description', inplace=True)\n"
     ]
    }
   ],
   "source": [
    "# show duplicate descriptions\n",
    "duplicate_descriptions = df[df.duplicated(keep=False, subset='description')]\n",
    "duplicate_descriptions.sort_values('description', inplace=True)\n",
    "duplicate_descriptions.to_csv('../data/02_duplicates/further_data/raw_duplicates_only.csv', index=False)\n",
    "duplicate_descriptions.info()"
   ]
  },
  {
   "cell_type": "code",
   "execution_count": 5,
   "metadata": {},
   "outputs": [
    {
     "name": "stdout",
     "output_type": "stream",
     "text": [
      "<class 'pandas.core.frame.DataFrame'>\n",
      "Index: 3927 entries, 0 to 4245\n",
      "Data columns (total 5 columns):\n",
      " #   Column                       Non-Null Count  Dtype \n",
      "---  ------                       --------------  ----- \n",
      " 0   startup_ID                   3927 non-null   int64 \n",
      " 1   description_startupdetector  579 non-null    object\n",
      " 2   startup_description          3798 non-null   object\n",
      " 3   industry                     3927 non-null   object\n",
      " 4   description                  3927 non-null   object\n",
      "dtypes: int64(1), object(4)\n",
      "memory usage: 184.1+ KB\n"
     ]
    }
   ],
   "source": [
    "# remove duplicates\n",
    "df_clean = df.drop_duplicates(subset=['description'])\n",
    "df_clean.info()"
   ]
  },
  {
   "cell_type": "code",
   "execution_count": 6,
   "metadata": {},
   "outputs": [
    {
     "name": "stderr",
     "output_type": "stream",
     "text": [
      "/tmp/ipykernel_1287992/3711425470.py:2: SettingWithCopyWarning: \n",
      "A value is trying to be set on a copy of a slice from a DataFrame\n",
      "\n",
      "See the caveats in the documentation: https://pandas.pydata.org/pandas-docs/stable/user_guide/indexing.html#returning-a-view-versus-a-copy\n",
      "  df_clean.drop(columns=['description'], inplace=True)\n"
     ]
    }
   ],
   "source": [
    "# save new dataframe with removed duplicates as raw_data.csv for duplicates dataset\n",
    "df_clean.drop(columns=['description'], inplace=True)\n",
    "df_clean.to_csv('../data/02_duplicates/raw_data.csv', index=False)"
   ]
  }
 ],
 "metadata": {
  "kernelspec": {
   "display_name": "tf_win",
   "language": "python",
   "name": "python3"
  },
  "language_info": {
   "codemirror_mode": {
    "name": "ipython",
    "version": 3
   },
   "file_extension": ".py",
   "mimetype": "text/x-python",
   "name": "python",
   "nbconvert_exporter": "python",
   "pygments_lexer": "ipython3",
   "version": "3.10.8"
  },
  "orig_nbformat": 4
 },
 "nbformat": 4,
 "nbformat_minor": 2
}

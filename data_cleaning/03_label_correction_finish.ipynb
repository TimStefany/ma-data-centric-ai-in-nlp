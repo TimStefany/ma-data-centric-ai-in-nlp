{
 "cells": [
  {
   "cell_type": "code",
   "execution_count": 1,
   "metadata": {},
   "outputs": [],
   "source": [
    "import pandas as pd"
   ]
  },
  {
   "cell_type": "code",
   "execution_count": 2,
   "metadata": {},
   "outputs": [
    {
     "name": "stdout",
     "output_type": "stream",
     "text": [
      "<class 'pandas.core.frame.DataFrame'>\n",
      "RangeIndex: 4246 entries, 0 to 4245\n",
      "Data columns (total 4 columns):\n",
      " #   Column                       Non-Null Count  Dtype \n",
      "---  ------                       --------------  ----- \n",
      " 0   startup_ID                   4246 non-null   int64 \n",
      " 1   description_startupdetector  592 non-null    object\n",
      " 2   startup_description          4112 non-null   object\n",
      " 3   industry                     4246 non-null   object\n",
      "dtypes: int64(1), object(3)\n",
      "memory usage: 132.8+ KB\n"
     ]
    }
   ],
   "source": [
    "df_base = pd.read_csv(\"../data/00_baseline/raw_data.csv\")\n",
    "df_base.info()"
   ]
  },
  {
   "cell_type": "code",
   "execution_count": 3,
   "metadata": {},
   "outputs": [
    {
     "name": "stdout",
     "output_type": "stream",
     "text": [
      "<class 'pandas.core.frame.DataFrame'>\n",
      "RangeIndex: 5469 entries, 0 to 5468\n",
      "Data columns (total 9 columns):\n",
      " #   Column                Non-Null Count  Dtype \n",
      "---  ------                --------------  ----- \n",
      " 0   startup_ID            5469 non-null   int64 \n",
      " 1   is_label_issue        5469 non-null   bool  \n",
      " 2   text                  5469 non-null   object\n",
      " 3   given_label           5469 non-null   object\n",
      " 4   suggested_label       5469 non-null   object\n",
      " 5   decided_label         1391 non-null   object\n",
      " 6   Data Error            29 non-null     object\n",
      " 7   To check with sophia  8 non-null      object\n",
      " 8   industry_new          5460 non-null   object\n",
      "dtypes: bool(1), int64(1), object(7)\n",
      "memory usage: 347.3+ KB\n"
     ]
    }
   ],
   "source": [
    "new_label = pd.read_csv('../data/03_mislabels/further_data/label_correction_checked_new.csv')\n",
    "new_label.info()"
   ]
  },
  {
   "cell_type": "code",
   "execution_count": 7,
   "metadata": {},
   "outputs": [
    {
     "name": "stdout",
     "output_type": "stream",
     "text": [
      "False    4545\n",
      "True      924\n",
      "Name: count, dtype: int64\n"
     ]
    }
   ],
   "source": [
    "# print number of changed values for label issues\n",
    "print(new_label.apply(lambda x: True if x['given_label'] != x['industry_new'] and x['is_label_issue'] else False, axis=1).value_counts())"
   ]
  },
  {
   "cell_type": "code",
   "execution_count": 4,
   "metadata": {},
   "outputs": [
    {
     "name": "stdout",
     "output_type": "stream",
     "text": [
      "<class 'pandas.core.frame.DataFrame'>\n",
      "RangeIndex: 4498 entries, 0 to 4497\n",
      "Data columns (total 5 columns):\n",
      " #   Column                       Non-Null Count  Dtype \n",
      "---  ------                       --------------  ----- \n",
      " 0   startup_ID                   4498 non-null   int64 \n",
      " 1   description_startupdetector  646 non-null    object\n",
      " 2   startup_description          4352 non-null   object\n",
      " 3   industry                     4498 non-null   object\n",
      " 4   industry_new                 4498 non-null   object\n",
      "dtypes: int64(1), object(4)\n",
      "memory usage: 175.8+ KB\n"
     ]
    }
   ],
   "source": [
    "# save a raw dataframe for label correction only (excluding additional SD data from the data augmentation step)\n",
    "cor_raw = df_base.merge(new_label[['startup_ID', 'industry_new']], 'left', 'startup_ID')\n",
    "cor_raw.info()"
   ]
  },
  {
   "cell_type": "code",
   "execution_count": 5,
   "metadata": {},
   "outputs": [
    {
     "name": "stdout",
     "output_type": "stream",
     "text": [
      "False    3718\n",
      "True      780\n",
      "Name: count, dtype: int64\n",
      "<class 'pandas.core.frame.DataFrame'>\n",
      "RangeIndex: 4498 entries, 0 to 4497\n",
      "Data columns (total 4 columns):\n",
      " #   Column                       Non-Null Count  Dtype \n",
      "---  ------                       --------------  ----- \n",
      " 0   startup_ID                   4498 non-null   int64 \n",
      " 1   description_startupdetector  646 non-null    object\n",
      " 2   startup_description          4352 non-null   object\n",
      " 3   industry                     4498 non-null   object\n",
      "dtypes: int64(1), object(3)\n",
      "memory usage: 140.7+ KB\n"
     ]
    }
   ],
   "source": [
    "# print number of changed values in base dataset\n",
    "print(cor_raw.apply(lambda x: True if x['industry'] != x['industry_new'] else False, axis=1).value_counts())\n",
    "# drop old industry column and rename industry_new\n",
    "cor_raw = cor_raw.drop(columns=['industry']).rename({\"industry_new\": \"industry\"}, axis=1)\n",
    "cor_raw.info()"
   ]
  },
  {
   "cell_type": "code",
   "execution_count": 6,
   "metadata": {},
   "outputs": [],
   "source": [
    "# save new raw dataframe\n",
    "cor_raw.to_csv('../data/03_mislabels/raw_data.csv', index=False)"
   ]
  }
 ],
 "metadata": {
  "kernelspec": {
   "display_name": "tf_win",
   "language": "python",
   "name": "python3"
  },
  "language_info": {
   "codemirror_mode": {
    "name": "ipython",
    "version": 3
   },
   "file_extension": ".py",
   "mimetype": "text/x-python",
   "name": "python",
   "nbconvert_exporter": "python",
   "pygments_lexer": "ipython3",
   "version": "3.10.8"
  },
  "orig_nbformat": 4
 },
 "nbformat": 4,
 "nbformat_minor": 2
}
